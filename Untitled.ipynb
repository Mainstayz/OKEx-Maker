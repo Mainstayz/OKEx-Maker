{
 "cells": [
  {
   "cell_type": "code",
   "execution_count": 55,
   "metadata": {},
   "outputs": [
    {
     "data": {
      "text/plain": [
       "{'info': {'orderID': '777a80c5-89e2-d385-7262-f402d82d92c1',\n",
       "  'clOrdID': '',\n",
       "  'clOrdLinkID': '',\n",
       "  'account': 142422,\n",
       "  'symbol': 'XBTUSD',\n",
       "  'side': 'Buy',\n",
       "  'simpleOrderQty': None,\n",
       "  'orderQty': 62,\n",
       "  'price': 6375,\n",
       "  'displayQty': None,\n",
       "  'stopPx': None,\n",
       "  'pegOffsetValue': None,\n",
       "  'pegPriceType': '',\n",
       "  'currency': 'USD',\n",
       "  'settlCurrency': 'XBt',\n",
       "  'ordType': 'Limit',\n",
       "  'timeInForce': 'GoodTillCancel',\n",
       "  'execInst': '',\n",
       "  'contingencyType': '',\n",
       "  'exDestination': 'XBME',\n",
       "  'ordStatus': 'Filled',\n",
       "  'triggered': '',\n",
       "  'workingIndicator': False,\n",
       "  'ordRejReason': '',\n",
       "  'simpleLeavesQty': None,\n",
       "  'leavesQty': 0,\n",
       "  'simpleCumQty': None,\n",
       "  'cumQty': 62,\n",
       "  'avgPx': 6375,\n",
       "  'multiLegReportingType': 'SingleSecurity',\n",
       "  'text': 'Submitted via API.',\n",
       "  'transactTime': '2018-11-10T17:37:14.864Z',\n",
       "  'timestamp': '2018-11-10T17:37:14.864Z'},\n",
       " 'id': '777a80c5-89e2-d385-7262-f402d82d92c1',\n",
       " 'timestamp': 1541871434864,\n",
       " 'datetime': '2018-11-10T17:37:14.864Z',\n",
       " 'lastTradeTimestamp': 1541871434864,\n",
       " 'symbol': 'BTC/USD',\n",
       " 'type': 'limit',\n",
       " 'side': 'buy',\n",
       " 'price': 6375.0,\n",
       " 'amount': 62.0,\n",
       " 'cost': 395250.0,\n",
       " 'filled': 62.0,\n",
       " 'remaining': 0.0,\n",
       " 'status': 'Filled',\n",
       " 'fee': None}"
      ]
     },
     "execution_count": 55,
     "metadata": {},
     "output_type": "execute_result"
    }
   ],
   "source": [
    "object = {'info': {'orderID': '777a80c5-89e2-d385-7262-f402d82d92c1', 'clOrdID': '', 'clOrdLinkID': '', 'account': 142422, 'symbol': 'XBTUSD', 'side': 'Buy', 'simpleOrderQty': None, 'orderQty': 62, 'price': 6375, 'displayQty': None, 'stopPx': None, 'pegOffsetValue': None, 'pegPriceType': '', 'currency': 'USD', 'settlCurrency': 'XBt', 'ordType': 'Limit', 'timeInForce': 'GoodTillCancel', 'execInst': '', 'contingencyType': '', 'exDestination': 'XBME', 'ordStatus': 'Filled', 'triggered': '', 'workingIndicator': False, 'ordRejReason': '', 'simpleLeavesQty': None, 'leavesQty': 0, 'simpleCumQty': None, 'cumQty': 62, 'avgPx': 6375, 'multiLegReportingType': 'SingleSecurity', 'text': 'Submitted via API.', 'transactTime': '2018-11-10T17:37:14.864Z', 'timestamp': '2018-11-10T17:37:14.864Z'}, 'id': '777a80c5-89e2-d385-7262-f402d82d92c1', 'timestamp': 1541871434864, 'datetime': '2018-11-10T17:37:14.864Z', 'lastTradeTimestamp': 1541871434864, 'symbol': 'BTC/USD', 'type': 'limit', 'side': 'buy', 'price': 6375.0, 'amount': 62.0, 'cost': 395250.0, 'filled': 62.0, 'remaining': 0.0, 'status': 'Filled', 'fee': None}\n",
    "object"
   ]
  },
  {
   "cell_type": "code",
   "execution_count": 59,
   "metadata": {},
   "outputs": [
    {
     "data": {
      "text/plain": [
       "['id',\n",
       " 'timestamp',\n",
       " 'datetime',\n",
       " 'lastTradeTimestamp',\n",
       " 'symbol',\n",
       " 'type',\n",
       " 'side',\n",
       " 'price',\n",
       " 'amount',\n",
       " 'cost',\n",
       " 'filled',\n",
       " 'remaining',\n",
       " 'status',\n",
       " 'fee']"
      ]
     },
     "execution_count": 59,
     "metadata": {},
     "output_type": "execute_result"
    }
   ],
   "source": [
    "object.pop('info')\n",
    "type(object)\n",
    "list(object.keys())\n"
   ]
  },
  {
   "cell_type": "code",
   "execution_count": 60,
   "metadata": {},
   "outputs": [],
   "source": [
    "import csv\n",
    "import os\n",
    "import sys\n",
    "\n",
    "\n",
    "# 功能：将一字典写入到csv文件中\n",
    "# 输入：文件名称，数据字典\n",
    "def save_order_record(dataDict={}):\n",
    "    file ='order.csv'\n",
    "    is_exist=os.path.isfile(file)\n",
    "    with open(file, \"a\") as csvFile:\n",
    "        csvWriter = csv.DictWriter(csvFile,list(dataDict.keys()))\n",
    "        if is_exist == False:\n",
    "            csvWriter.writeheader()\n",
    "        csvWriter.writerow(dataDict)\n",
    "        csvFile.close()\n",
    "        \n",
    "for i in range(3):\n",
    "    createDictCSV(object)       \n"
   ]
  },
  {
   "cell_type": "code",
   "execution_count": 61,
   "metadata": {},
   "outputs": [
    {
     "data": {
      "text/plain": [
       "{'id': '777a80c5-89e2-d385-7262-f402d82d92c1',\n",
       " 'timestamp': '1541871434864',\n",
       " 'datetime': '2018-11-10T17:37:14.864Z',\n",
       " 'lastTradeTimestamp': '1541871434864',\n",
       " 'symbol': 'BTC/USD',\n",
       " 'type': 'limit',\n",
       " 'side': 'buy',\n",
       " 'price': '6375.0',\n",
       " 'amount': '62.0',\n",
       " 'cost': '395250.0',\n",
       " 'filled': '62.0',\n",
       " 'remaining': '0.0',\n",
       " 'status': 'Filled',\n",
       " 'fee': ''}"
      ]
     },
     "execution_count": 61,
     "metadata": {},
     "output_type": "execute_result"
    }
   ],
   "source": [
    "def last_order_record():\n",
    "    file ='order.csv'\n",
    "    is_exist=os.path.isfile(file)\n",
    "    if is_exist == False:\n",
    "        return None\n",
    "    \n",
    "    last = None\n",
    "    with open(file, \"r\") as csvFile:\n",
    "        reader = csv.DictReader(csvFile)\n",
    "        for record in reader:\n",
    "            pass\n",
    "        last = dict(record)\n",
    "        csvFile.close()\n",
    "    return last\n",
    "last_order_record()    "
   ]
  },
  {
   "cell_type": "code",
   "execution_count": null,
   "metadata": {},
   "outputs": [],
   "source": []
  }
 ],
 "metadata": {
  "kernelspec": {
   "display_name": "Python 3",
   "language": "python",
   "name": "python3"
  },
  "language_info": {
   "codemirror_mode": {
    "name": "ipython",
    "version": 3
   },
   "file_extension": ".py",
   "mimetype": "text/x-python",
   "name": "python",
   "nbconvert_exporter": "python",
   "pygments_lexer": "ipython3",
   "version": "3.7.0"
  }
 },
 "nbformat": 4,
 "nbformat_minor": 2
}
